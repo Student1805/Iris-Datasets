{
 "cells": [
  {
   "cell_type": "code",
   "execution_count": 1,
   "id": "4fd0c108",
   "metadata": {},
   "outputs": [
    {
     "name": "stdout",
     "output_type": "stream",
     "text": [
      "Enter the first number: 1\n",
      "Enter the second number: 2\n",
      "The greater of the two numbers is: 2.0\n"
     ]
    }
   ],
   "source": [
    "def find_greatest(number1, number2):\n",
    "    if number1 > number2:\n",
    "        return number1\n",
    "    else:\n",
    "        return number2\n",
    "\n",
    "# Example usage:\n",
    "num1 = float(input(\"Enter the first number: \"))\n",
    "num2 = float(input(\"Enter the second number: \"))\n",
    "\n",
    "result = find_greatest(num1, num2)\n",
    "print(f\"The greater of the two numbers is: {result}\")"
   ]
  },
  {
   "cell_type": "code",
   "execution_count": 2,
   "id": "92483d8a",
   "metadata": {},
   "outputs": [
    {
     "name": "stdout",
     "output_type": "stream",
     "text": [
      "Enter a number to calculate its factorial: 3\n",
      "The factorial of 3 is: 6\n"
     ]
    }
   ],
   "source": [
    "def factorial(n):\n",
    "    if n < 0:\n",
    "        return \"Factorial is not defined for negative numbers.\"\n",
    "    elif n == 0 or n == 1:\n",
    "        return 1\n",
    "    else:\n",
    "        result = 1\n",
    "        for i in range(2, n + 1):\n",
    "            result *= i\n",
    "        return result\n",
    "\n",
    "# Example usage:\n",
    "num = int(input(\"Enter a number to calculate its factorial: \"))\n",
    "\n",
    "result = factorial(num)\n",
    "print(f\"The factorial of {num} is: {result}\")\n"
   ]
  },
  {
   "cell_type": "code",
   "execution_count": 3,
   "id": "f962e37e",
   "metadata": {},
   "outputs": [
    {
     "name": "stdout",
     "output_type": "stream",
     "text": [
      "Enter a number to calculate the sum of the first n natural numbers: 5\n",
      "The sum of the first 5 natural numbers is: 15\n"
     ]
    }
   ],
   "source": [
    "def iterative_sum_of_n_numbers(n):\n",
    "    if n < 0:\n",
    "        print(\"Please enter a non-negative integer.\")\n",
    "    else:\n",
    "        result = 0\n",
    "        for i in range(1, n + 1):\n",
    "            result += i\n",
    "        print(f\"The sum of the first {n} natural numbers is: {result}\")\n",
    "\n",
    "# Example usage:\n",
    "num = int(input(\"Enter a number to calculate the sum of the first n natural numbers: \"))\n",
    "\n",
    "iterative_sum_of_n_numbers(num)\n"
   ]
  },
  {
   "cell_type": "code",
   "execution_count": 4,
   "id": "3cb63d4a",
   "metadata": {},
   "outputs": [
    {
     "name": "stdout",
     "output_type": "stream",
     "text": [
      "Enter the element to search for: 7\n",
      "The target element 7 is found at index 2.\n"
     ]
    }
   ],
   "source": [
    "def linear_search(arr, target):\n",
    "    if target in arr:\n",
    "        return arr.index(target)\n",
    "    else:\n",
    "        return -1\n",
    "\n",
    "# Example usage:\n",
    "my_list = [4, 2, 7, 1, 9, 5, 3]\n",
    "target_element = int(input(\"Enter the element to search for: \"))\n",
    "\n",
    "result = linear_search(my_list, target_element)\n",
    "\n",
    "if result != -1:\n",
    "    print(f\"The target element {target_element} is found at index {result}.\")\n",
    "else:\n",
    "    print(f\"The target element {target_element} is not in the list.\")\n"
   ]
  },
  {
   "cell_type": "code",
   "execution_count": null,
   "id": "333f0a58",
   "metadata": {},
   "outputs": [],
   "source": []
  }
 ],
 "metadata": {
  "kernelspec": {
   "display_name": "Python 3 (ipykernel)",
   "language": "python",
   "name": "python3"
  },
  "language_info": {
   "codemirror_mode": {
    "name": "ipython",
    "version": 3
   },
   "file_extension": ".py",
   "mimetype": "text/x-python",
   "name": "python",
   "nbconvert_exporter": "python",
   "pygments_lexer": "ipython3",
   "version": "3.10.9"
  }
 },
 "nbformat": 4,
 "nbformat_minor": 5
}
